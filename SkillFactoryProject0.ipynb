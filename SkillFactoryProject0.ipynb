{
 "cells": [
  {
   "cell_type": "code",
   "execution_count": 1,
   "metadata": {},
   "outputs": [
    {
     "name": "stdout",
     "output_type": "stream",
     "text": [
      "Ваш алгоритм угадывает число в среднем за 5 попыток\n"
     ]
    },
    {
     "data": {
      "text/plain": [
       "5"
      ]
     },
     "execution_count": 1,
     "metadata": {},
     "output_type": "execute_result"
    }
   ],
   "source": [
    "import numpy as np\n",
    "\n",
    "\n",
    "def game_core_v1(number):\n",
    "    \"\"\"Просто угадываем на random ни как не используя информацию о больше или меньше.\n",
    "       Функция Принимает загаданное число и возвращает число попыток\"\"\"\n",
    "    count = 0\n",
    "    while True:\n",
    "        count += 1\n",
    "        predict = np.random.randint(1, 101)  # предполагаемое число\n",
    "        if number == predict:\n",
    "            break\n",
    "    return count  # выход из цикла, если угадали\n",
    "\n",
    "\n",
    "def game_core_v2(number):\n",
    "    \"\"\"Сначала устанавливаем любое random число, а потом уменьшаем или увеличиваем его\n",
    "       в зависимости от того, больше оно или меньше нужного.\n",
    "       Функция принимает загаданное число и возвращает число попыток\"\"\"\n",
    "    count = 0\n",
    "    predict = np.random.randint(1, 100)\n",
    "    while number != predict:\n",
    "        count += 1\n",
    "        if number > predict:\n",
    "            predict += 1\n",
    "        elif number < predict:\n",
    "            predict -= 1\n",
    "    return count  # выход из цикла, если угадали\n",
    "\n",
    "\n",
    "def game_core_v3(number):\n",
    "    \"\"\"Испоьзуя метод бисекции устанавливаем число по середине интервала, а затем сдвигаем нижнюю границу\n",
    "    если искомое число больше, либо верхнюю если меньше. Цикл повторяется до тех пор пока мы не угадаем число.\n",
    "    Таким образом мы найдем число самым быстрым способом в среднем на большой дистанции выборки).\"\"\"\n",
    "    count = 0\n",
    "    lower_edge = 1\n",
    "    Upper_edge = 100\n",
    "    while True:\n",
    "        predict = (lower_edge + Upper_edge) // 2\n",
    "        count += 1\n",
    "        if number > predict:\n",
    "            lower_edge = predict + 1\n",
    "        elif number < predict:\n",
    "            Upper_edge = predict - 1\n",
    "        else:\n",
    "            break\n",
    "    return count\n",
    "\n",
    "\n",
    "def score_game(game_core):\n",
    "    '''Запускаем игру 1000 раз, чтобы узнать, как быстро игра угадывает число'''\n",
    "    count_ls = []\n",
    "    np.random.seed(1)  # фиксируем RANDOM SEED, чтобы ваш эксперимент был воспроизводим!\n",
    "    random_array = np.random.randint(1,101, size=(1000))\n",
    "    for number in random_array:\n",
    "        count_ls.append(game_core(number))\n",
    "    score = int(np.mean(count_ls))\n",
    "    print(f\"Ваш алгоритм угадывает число в среднем за {score} попыток\")\n",
    "    return(score)\n",
    "score_game(game_core_v3) #запускаем наш улучшеный вариант по угадыванию числа"
   ]
  },
  {
   "cell_type": "code",
   "execution_count": null,
   "metadata": {},
   "outputs": [],
   "source": []
  }
 ],
 "metadata": {
  "kernelspec": {
   "display_name": "Python 3",
   "language": "python",
   "name": "python3"
  },
  "language_info": {
   "codemirror_mode": {
    "name": "ipython",
    "version": 3
   },
   "file_extension": ".py",
   "mimetype": "text/x-python",
   "name": "python",
   "nbconvert_exporter": "python",
   "pygments_lexer": "ipython3",
   "version": "3.8.3"
  }
 },
 "nbformat": 4,
 "nbformat_minor": 4
}
